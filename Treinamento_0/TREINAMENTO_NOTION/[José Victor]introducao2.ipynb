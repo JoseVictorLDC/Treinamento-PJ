{
 "cells": [
  {
   "cell_type": "markdown",
   "metadata": {},
   "source": [
    "### Aplicações de \"Introdução ao NDados (3/4) - Lógicas de Programação\""
   ]
  },
  {
   "cell_type": "markdown",
   "metadata": {},
   "source": [
    "### 1. Fatorial\n",
    "\n",
    "Nesse vídeo, estaremos desenvolvendo uma função muito famosa na introdução computacional, o fatorial. Além de resolvermos esse pequeno problema, passaremos por um processo padrão que deve ser feito antes de qualquer resolução de exercício, além de entender algumas boas práticas de programação no geral!"
   ]
  },
  {
   "cell_type": "code",
   "execution_count": 17,
   "metadata": {},
   "outputs": [
    {
     "data": {
      "text/plain": [
       "6"
      ]
     },
     "execution_count": 17,
     "metadata": {},
     "output_type": "execute_result"
    }
   ],
   "source": [
    "# Minha tentativa do código\n",
    "def fatorial(n):\n",
    "    resultado = 1\n",
    "\n",
    "    # Captura erros\n",
    "    if n < 1:\n",
    "        return \"Por favor, insira um natural positivo\"\n",
    "\n",
    "    while n != 1:\n",
    "        resultado = resultado * n\n",
    "        n = n - 1\n",
    "\n",
    "    return resultado\n",
    "\n",
    "fatorial(3)"
   ]
  },
  {
   "cell_type": "markdown",
   "metadata": {},
   "source": [
    "### 2. Sequência de Fibonacci\n",
    "\n",
    "Para esse segundo problema, iremos trazer outro problema muito famoso da área de programação, a sequência de fibonacci, explorando principalmente o poder de algumas funcionalidades das listas do python, tornando a resolução do problema muito mais simples e direta do que poderia ser!"
   ]
  },
  {
   "cell_type": "code",
   "execution_count": 24,
   "metadata": {},
   "outputs": [
    {
     "data": {
      "text/plain": [
       "[1, 2, 3, 5, 8, 13, 21, 34, 55, 89]"
      ]
     },
     "execution_count": 24,
     "metadata": {},
     "output_type": "execute_result"
    }
   ],
   "source": [
    "# Minha tentativa do código\n",
    "def fibonacci(n):\n",
    "    sequencia = []\n",
    "    aux1 = 0\n",
    "    aux2 = 1\n",
    "    auxtotal = 0\n",
    "\n",
    "    # Captura erros\n",
    "    if n < 1:\n",
    "        return \"Por favor, insira um natural positivo\"\n",
    "\n",
    "    while n != 0:\n",
    "        # Adicionando no vetor sequencia\n",
    "        auxtotal = aux1 + aux2\n",
    "        sequencia.append(auxtotal)\n",
    "\n",
    "        # Atualizando valores auxiliares\n",
    "        aux1 = aux2\n",
    "        aux2 = auxtotal\n",
    "\n",
    "        n = n -1\n",
    "\n",
    "    return sequencia\n",
    "\n",
    "fibonacci(10)"
   ]
  },
  {
   "cell_type": "markdown",
   "metadata": {},
   "source": [
    "### 3. 2 Soluções para o problema de Anagramas\n",
    "\n",
    "Para nosso terceiro e último exercício, damos um passo a mais e trazemos um exercício um pouco mais complexo. Para resolvê-lo, implementaremos não uma, mas duas soluções, mostrando como são inúmeras as soluções possíveis para um mesmo exercício!"
   ]
  },
  {
   "cell_type": "code",
   "execution_count": 41,
   "metadata": {},
   "outputs": [
    {
     "data": {
      "text/plain": [
       "True"
      ]
     },
     "execution_count": 41,
     "metadata": {},
     "output_type": "execute_result"
    }
   ],
   "source": [
    "# Minha tentativa do código\n",
    "def anagramas(s,t):\n",
    "    if len(s) != len(t):\n",
    "        return False\n",
    "    \n",
    "    string1 = list(s)\n",
    "    string2 = list(t)\n",
    "\n",
    "    for i in string1:\n",
    "        for j in string2:\n",
    "            if i == j:\n",
    "                string2.remove(j)\n",
    "                break\n",
    "    \n",
    "    if string2 == []:\n",
    "        return True\n",
    "    else:\n",
    "        return False\n",
    "    \n",
    "anagramas(\"aaaamgrn\",\"anagrama\")            "
   ]
  }
 ],
 "metadata": {
  "kernelspec": {
   "display_name": "Python 3",
   "language": "python",
   "name": "python3"
  },
  "language_info": {
   "codemirror_mode": {
    "name": "ipython",
    "version": 3
   },
   "file_extension": ".py",
   "mimetype": "text/x-python",
   "name": "python",
   "nbconvert_exporter": "python",
   "pygments_lexer": "ipython3",
   "version": "3.10.12"
  }
 },
 "nbformat": 4,
 "nbformat_minor": 2
}
