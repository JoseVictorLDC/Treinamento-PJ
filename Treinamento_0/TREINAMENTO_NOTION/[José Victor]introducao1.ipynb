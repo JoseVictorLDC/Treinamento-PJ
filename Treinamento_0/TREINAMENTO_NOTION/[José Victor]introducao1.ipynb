{
 "cells": [
  {
   "cell_type": "markdown",
   "metadata": {},
   "source": [
    "### Aplicações de \"Introdução ao NDados (2/4) - Introdução à Programação\""
   ]
  },
  {
   "cell_type": "markdown",
   "metadata": {},
   "source": [
    "1. Faça um código que recebe uma temperatura em Fahrenheit e retorne ela em Kelvin."
   ]
  },
  {
   "cell_type": "code",
   "execution_count": 2,
   "metadata": {},
   "outputs": [
    {
     "name": "stdout",
     "output_type": "stream",
     "text": [
      "-290.77777777777777\n"
     ]
    }
   ],
   "source": [
    "inp = input(\"Entre com uma temperatura em Fahrenheit: \")\n",
    "try:\n",
    "\tfahr_temp = float(inp)\n",
    "\tkel_temp = ((fahr_temp - 32.0) * 5.0 / 9.0) - 273\n",
    "\tprint(kel_temp)\n",
    "except:\n",
    "\tprint(\"Entre com um número, por favor\")"
   ]
  },
  {
   "cell_type": "markdown",
   "metadata": {},
   "source": [
    "2. Qual a diferença entre uma linguagem interpretada e uma compilada?"
   ]
  },
  {
   "cell_type": "markdown",
   "metadata": {},
   "source": [
    "Uma linguagem interpretada é lida **linha a linha** (exemplo: python). Vale destacar que isso cria a necessidade de uma organização po identação.\n",
    "\n",
    "Uma linguagem compilada é lida **toda de uma vez** (exemplos: C e C++). Diferente da linguagem interpretada pode-se escrever todo o código em apenas uma linha, pois a leitura será, de qualquer forma, total."
   ]
  },
  {
   "cell_type": "markdown",
   "metadata": {},
   "source": [
    "3. Faça um código que recebe dois números e retorna sua média."
   ]
  },
  {
   "cell_type": "code",
   "execution_count": 10,
   "metadata": {},
   "outputs": [
    {
     "name": "stdout",
     "output_type": "stream",
     "text": [
      "1.5\n"
     ]
    }
   ],
   "source": [
    "# Versão dois pedidos de input\n",
    "inp1 = input(\"Entre com o primeiro número: \")\n",
    "inp2 = input(\"Entre com o segundo número: \")\n",
    "\n",
    "try:\n",
    "\ta = int(inp1)\n",
    "\tb = int(inp2)\n",
    "\tmedia = (a + b) / 2\n",
    "\tprint(media)\n",
    "except:\n",
    "\tprint(\"Entre com um número, por favor\")"
   ]
  },
  {
   "cell_type": "code",
   "execution_count": 11,
   "metadata": {},
   "outputs": [
    {
     "name": "stdout",
     "output_type": "stream",
     "text": [
      "1.5\n"
     ]
    }
   ],
   "source": [
    "# Versão com separação por espaços\n",
    "inp = input(\"Entre com dois números separados por espaço: \")\n",
    "entradas = inp.split()\n",
    "\n",
    "try:\n",
    "\ta = int(entradas[0])\n",
    "\tb = int(entradas[1])\n",
    "\tmedia = (a + b) / 2\n",
    "\tprint(media)\n",
    "except:\n",
    "\tprint(\"Entre com um número, por favor\")"
   ]
  }
 ],
 "metadata": {
  "kernelspec": {
   "display_name": "Python 3",
   "language": "python",
   "name": "python3"
  },
  "language_info": {
   "codemirror_mode": {
    "name": "ipython",
    "version": 3
   },
   "file_extension": ".py",
   "mimetype": "text/x-python",
   "name": "python",
   "nbconvert_exporter": "python",
   "pygments_lexer": "ipython3",
   "version": "3.10.12"
  }
 },
 "nbformat": 4,
 "nbformat_minor": 2
}
