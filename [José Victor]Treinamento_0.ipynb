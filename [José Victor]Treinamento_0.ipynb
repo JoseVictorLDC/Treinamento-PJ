{
 "cells": [
  {
   "cell_type": "markdown",
   "metadata": {},
   "source": [
    "## Treinamento 0 -> Introdução ao NDados\n",
    "\n",
    "Primeiramente, usamos esse espaço para dar Boas-Vindas ao núcleo de Análise e Inteligência de dados da Poli Júnior. Sabemos que não foi fácil chegar até aqui e exigiu bastante esforço de cada um de vocês, por isso, deixa-se aqui os mais sinceros parábens pela aprovação, a partir daqui as coisas ficarão interessantes!\n",
    "\n",
    "\n",
    "Como o próprio nome diz, esse treinamento é uma introdução às ferramentas básicas que utilizamos em qualquer projeto dentro do núcleo. A principal ferramenta que queremos trabalhar é o Python e sabemos que nem todos possuem conhecimento prévio dessa linguagem de programação, por isso é importante colocarmos todos no mesmo ponto para então começarmos a trabalhar com tópicos mais aprofundados. Dessa forma, esse treinamento busca desenvolver as principais lógicas da linguagem de Python, sem se estender para a questão de bibliotecas de Machine Learning, plotagem gráfica etc. Com esses exercícios, esperamos que vocês aprendam sobre alguns comandos essenciais do Python e desenvolvam uma forma de raciocinar mais eficiente com esses problemas. Apesar de não estarem inclusas as bibliotecas, os comandos ensinados aqui dialogam muito bem com as bibliotecas e são comandas universais, encaixando-se em qualquer contexto de projeto envolvendo python.\n",
    "\n",
    "Dada essa motivação, podemos dar início ao treinamento. Nesse arquivo, só há os exercícios da tarefa, mas aconselhamos fortemente que seja feito o acesso aos materiais de treinamento no Notion. Fizemos materiais especificamente para esse treinamento, então lá há um bom direcionamento! Para acessar, basta entrar no notion do núcleo, entrar em Treinamentos Internos -> Treinamentos Introdutórios e lá estará o módulo de 4 materiais que trabalham com o que será cobrado aqui!\n",
    "\n"
   ]
  },
  {
   "cell_type": "markdown",
   "metadata": {},
   "source": [
    "### Questão 1\n",
    "\n",
    "Escreva uma função chamada `soma` que receba dois parâmetros, `a` e `b`, e retorne a soma dos dois. Assuma que os parâmetros podem ser números inteiros ou de ponto flutuante.\n",
    "\n",
    "#### Exemplo de Entrada:\n",
    "```python\n",
    "a = 3\n",
    "b = 4\n",
    "\n",
    "Saída: 7"
   ]
  },
  {
   "cell_type": "code",
   "execution_count": 7,
   "metadata": {},
   "outputs": [
    {
     "data": {
      "text/plain": [
       "12"
      ]
     },
     "execution_count": 7,
     "metadata": {},
     "output_type": "execute_result"
    }
   ],
   "source": [
    "def soma(a, b):\n",
    "    # Operacionando variaveis e retornando valor\n",
    "    c = a + b\n",
    "    return c\n",
    "\n",
    "# Teste\n",
    "soma(4,8)"
   ]
  },
  {
   "cell_type": "markdown",
   "metadata": {},
   "source": [
    "### Questão 2\n",
    "Escreva uma função `find_max_product` que recebe uma lista de números inteiros e retorna o produto dos dois maiores números na lista.\n",
    "\n",
    "### Exemplos:\n",
    "\n",
    "Entrada: nums = [1, 2, 3]\n",
    "\n",
    "Saída: 6\n",
    "\n",
    "Explicação: O produto dos dois maiores números (2 e 3) é 6.\n",
    "\n",
    "Entrada: nums = [10, -20, 0, 3]\n",
    "\n",
    "Saída: 30\n",
    "\n",
    "Explicação: O produto dos dois maiores números (10 e 3) é 30.\n",
    "\n",
    "Entrada: nums = [-1, -2, -3, -4]\n",
    "\n",
    "Saída: 12\n",
    "\n",
    "Explicação: O produto dos dois maiores números (-3 e -4) é 12.\n",
    "\n",
    "Notas:\n",
    "\n",
    "Você pode assumir que a lista sempre terá pelo menos dois elementos.\n",
    "A função deve ser capaz de lidar com números negativos e positivos."
   ]
  },
  {
   "cell_type": "code",
   "execution_count": 1,
   "metadata": {},
   "outputs": [
    {
     "data": {
      "text/plain": [
       "-12"
      ]
     },
     "execution_count": 1,
     "metadata": {},
     "output_type": "execute_result"
    }
   ],
   "source": [
    "def find_max_product(nums):\n",
    "    # Fazendo lista com valores módulos dos valores\n",
    "    abs_nums = [abs(num) for num in nums]\n",
    "\n",
    "    # Primeiro maior número e salvando seu index\n",
    "    primeiroMax = max(abs_nums)\n",
    "    indexPrimeiroMax = abs_nums.index(max(abs_nums))\n",
    "\n",
    "    # Tirando maior número e encontrando o segundo maior e salvando seu index\n",
    "    abs_nums.remove(primeiroMax)\n",
    "    indexSegundoMax = abs_nums.index(max(abs_nums))\n",
    "\n",
    "    # Usando o index dos valores para encontrar seu real valor\n",
    "    maiorValor = nums[indexPrimeiroMax]\n",
    "    segundomaiorValor = nums[indexSegundoMax]\n",
    "\n",
    "    # Resultado e return\n",
    "    resultado = maiorValor*segundomaiorValor\n",
    "    return resultado\n",
    "\n",
    "# Teste\n",
    "find_max_product([-1, -2, 3, -4])"
   ]
  },
  {
   "cell_type": "code",
   "execution_count": 9,
   "metadata": {},
   "outputs": [
    {
     "data": {
      "text/plain": [
       "-12"
      ]
     },
     "execution_count": 9,
     "metadata": {},
     "output_type": "execute_result"
    }
   ],
   "source": [
    "# Outra versão do código - mais eficiente\n",
    "\n",
    "def find_max_product(nums):\n",
    "    # Encontrando os dois maiores valores absolutos\n",
    "    max_abs_values = sorted([abs(num) for num in nums], reverse=True)[:2]\n",
    "\n",
    "    # Encontrando os dois maiores valores correspondentes na lista original\n",
    "    max_values = [max(filter(lambda x: abs(x) == value, nums)) for value in max_abs_values] \n",
    "\n",
    "    # Calculando o produto dos valores máximos em módulo\n",
    "    resultado = max_values[0] * max_values[1]\n",
    "\n",
    "    # Retornando o resultado\n",
    "    return resultado\n",
    "\n",
    "# Teste\n",
    "find_max_product([-1, -2, 3, -4])"
   ]
  },
  {
   "cell_type": "markdown",
   "metadata": {},
   "source": [
    "### Questão 3\n",
    "Dado uma lista de inteiros `nums`, crie uma função `temDuplicado`, que recebe a lista nums como parâmetro e retorna `true` se algum valor aparecer pelo menos duas vezes na lista e retorne `false` se todos os elementos forem distintos.\n",
    "\n",
    "#### Exemplo 1:\n",
    "\n",
    "Entrada: nums = [1,2,3,1]\n",
    "\n",
    "Saída: true\n",
    "\n",
    "#### Exemplo 2:\n",
    "\n",
    "Entrada: nums = [1,2,3,4]\n",
    "\n",
    "Saída: false\n",
    "\n",
    "#### Exemplo 3:\n",
    "\n",
    "Entrada: nums = [1,1,1,3,3,4,3,2,4,2]\n",
    "\n",
    "Saída: true"
   ]
  },
  {
   "cell_type": "code",
   "execution_count": 13,
   "metadata": {},
   "outputs": [
    {
     "data": {
      "text/plain": [
       "True"
      ]
     },
     "execution_count": 13,
     "metadata": {},
     "output_type": "execute_result"
    }
   ],
   "source": [
    "def temDuplicado(nums):\n",
    "    # For de interação em um range com o comprimento da lista\n",
    "    for i in range(len(nums)): \n",
    "        # For de interação em um range com o comprimento da lista, mas apartir do elemento i\n",
    "        for j in range(i + 1, len(nums)):\n",
    "            if nums[i] == nums[j]:\n",
    "                return True\n",
    "\n",
    "    return False\n",
    "\n",
    "# Teste\n",
    "temDuplicado([1,1,1,3,3,4,3,2,4,2])"
   ]
  },
  {
   "cell_type": "code",
   "execution_count": 14,
   "metadata": {},
   "outputs": [
    {
     "name": "stdout",
     "output_type": "stream",
     "text": [
      "True\n"
     ]
    }
   ],
   "source": [
    "# Outra versão do código\n",
    "def temDuplicado(nums):\n",
    "    # Conjunto para armazenar os números únicos já vistos\n",
    "    seen = set()\n",
    "\n",
    "    for num in nums:\n",
    "        # Se o número já estiver no conjunto, significa que encontramos um duplicado\n",
    "        if num in seen:\n",
    "            return True\n",
    "        # Adiciona o número ao conjunto de números vistos\n",
    "        seen.add(num)\n",
    "\n",
    "    return False\n",
    "\n",
    "# Teste\n",
    "print(temDuplicado([1,1,1,3,3,4,3,2,4,2]))"
   ]
  },
  {
   "cell_type": "markdown",
   "metadata": {},
   "source": [
    "### Questão 4\n",
    "Escreva uma função `prefixo`, que recebe uma lista de palavras, e retorna o prefixo comum mais longo entre as palavras da lista de strings.\n",
    "\n",
    "Se não houver um prefixo comum, retorne uma string vazia \"\".\n",
    "\n",
    "#### Exemplo 1:\n",
    "\n",
    "Entrada: strs = [\"flower\",\"flow\",\"flight\"]\n",
    "\n",
    "Saída: \"fl\"\n",
    "\n",
    "#### Exemplo 2:\n",
    "\n",
    "Entrada: strs = [\"dog\",\"racecar\",\"car\"]\n",
    "\n",
    "Saída: \"\""
   ]
  },
  {
   "cell_type": "code",
   "execution_count": 16,
   "metadata": {},
   "outputs": [
    {
     "data": {
      "text/plain": [
       "'fl'"
      ]
     },
     "execution_count": 16,
     "metadata": {},
     "output_type": "execute_result"
    }
   ],
   "source": [
    "def prefixo(strs):\n",
    "    if not strs:\n",
    "        return \"\"\n",
    "\n",
    "    prefixo = strs[0] \n",
    "\n",
    "    for s in strs[1:]: \n",
    "        # Enquanto o prefixo não for encontrado no início da string\n",
    "        while s.find(prefixo) != 0:  \n",
    "\n",
    "            prefixo = prefixo[:-1]  # Remove o último caractere do prefixo\n",
    "\n",
    "            # Se o prefixo ficar vazio, não há prefixo comum\n",
    "            if not prefixo:  \n",
    "                return \"\"\n",
    "    return prefixo\n",
    "\n",
    "prefixo([\"flower\",\"flow\",\"flight\"])"
   ]
  },
  {
   "cell_type": "markdown",
   "metadata": {},
   "source": [
    "#### Questão 5\n",
    "Dado uma lista de inteiros `nums` e um inteiro `target`, retorne os índices dos dois números de modo que eles somem para dar o `target`.\n",
    "\n",
    "Você pode assumir que cada entrada terá exatamente uma solução, e não pode usar o mesmo elemento duas vezes.\n",
    "\n",
    "Você pode retornar a resposta em qualquer ordem.\n",
    "\n",
    "#### Exemplo 1:\n",
    "\n",
    "Entrada: nums = [2,7,11,15], target = 9\n",
    "\n",
    "Saída: [0,1]\n",
    "Explicação: Como nums[0] + nums[1] == 9, retornamos [0, 1].\n",
    "\n",
    "#### Exemplo 2:\n",
    "\n",
    "Entrada: nums = [3,2,4], target = 6\n",
    "\n",
    "Saída: [1,2]\n",
    "\n",
    "#### Exemplo 3:\n",
    "\n",
    "Entrada: nums = [3,3], target = 6\n",
    "\n",
    "Saída: [0,1]"
   ]
  },
  {
   "cell_type": "code",
   "execution_count": 27,
   "metadata": {},
   "outputs": [
    {
     "data": {
      "text/plain": [
       "[2, 7]"
      ]
     },
     "execution_count": 27,
     "metadata": {},
     "output_type": "execute_result"
    }
   ],
   "source": [
    "def target(nums, target):\n",
    "    aux = 0\n",
    "\n",
    "    for i in nums:\n",
    "        # Altera auxiliar de integração\n",
    "        aux += 1\n",
    "        for j in nums[aux:]:\n",
    "            if i+j == target:\n",
    "                return [i,j]\n",
    "            \n",
    "    # return padrão para não acarretar problemas\n",
    "    return \"\"\n",
    "\n",
    "target([3,2,5,3,7], 9)"
   ]
  },
  {
   "cell_type": "markdown",
   "metadata": {},
   "source": [
    "### DESAFIO (OPCIONAL)\n",
    "Dado uma lista de strings `strs`, crie uma função `groupAnagram`, que recebe a lista de strings como parâmetro e agrupa os anagramas juntos. Você pode retornar a resposta em qualquer ordem.\n",
    "\n",
    "### Exemplo 1:\n",
    "\n",
    "Entrada: strs = [\"eat\", \"tea\", \"tan\", \"ate\", \"nat\", \"bat\"]\n",
    "\n",
    "Saída: [[\"bat\"], [\"nat\", \"tan\"], [\"ate\", \"eat\", \"tea\"]]\n",
    "\n",
    "### Exemplo 2:\n",
    "\n",
    "Entrada: strs = [\"\"]\n",
    "\n",
    "Saída: [[\"\"]]\n",
    "\n",
    "### Exemplo 3:\n",
    "\n",
    "Entrada: strs = [\"a\"]\n",
    "\n",
    "Saída: [[\"a\"]]\n"
   ]
  },
  {
   "cell_type": "code",
   "execution_count": 33,
   "metadata": {},
   "outputs": [
    {
     "data": {
      "text/plain": [
       "[['eat', 'tea', 'ate'], ['tan', 'nat'], ['bat']]"
      ]
     },
     "execution_count": 33,
     "metadata": {},
     "output_type": "execute_result"
    }
   ],
   "source": [
    "def groupAnagram(strs):\n",
    "    aux = 0\n",
    "    listAux = []\n",
    "    listFinal = []\n",
    "\n",
    "    for i in strs:\n",
    "        listAux.append(i)\n",
    "        aux += 1\n",
    "        for j in strs[aux:]:\n",
    "            if areAnagrams(i,j) == True:\n",
    "                listAux.append(j)\n",
    "                strs.remove(j)\n",
    "\n",
    "        listFinal.append(listAux)\n",
    "        listAux = []\n",
    "\n",
    "    return listFinal\n",
    "\n",
    "def areAnagrams(a,b):\n",
    "    if a == b:\n",
    "        return False\n",
    "    \n",
    "    # Conte a ocorrência de cada caractere em ambas as strings\n",
    "    count_str1 = {}\n",
    "    count_str2 = {}\n",
    "    for char in a:\n",
    "        count_str1[char] = count_str1.get(char, 0) + 1\n",
    "    for char in b:\n",
    "        count_str2[char] = count_str2.get(char, 0) + 1\n",
    "\n",
    "    # Compare os dicionários de contagem\n",
    "    return count_str1 == count_str2\n",
    "\n",
    "groupAnagram([\"eat\", \"tea\", \"tan\", \"ate\", \"nat\", \"bat\"])"
   ]
  }
 ],
 "metadata": {
  "kernelspec": {
   "display_name": "Python 3",
   "language": "python",
   "name": "python3"
  },
  "language_info": {
   "codemirror_mode": {
    "name": "ipython",
    "version": 3
   },
   "file_extension": ".py",
   "mimetype": "text/x-python",
   "name": "python",
   "nbconvert_exporter": "python",
   "pygments_lexer": "ipython3",
   "version": "3.10.12"
  }
 },
 "nbformat": 4,
 "nbformat_minor": 2
}
